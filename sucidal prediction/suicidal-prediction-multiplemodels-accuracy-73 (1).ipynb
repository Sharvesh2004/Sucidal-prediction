{
 "cells": [
  {
   "cell_type": "markdown",
   "metadata": {},
   "source": [
    "# **1. Install packages**"
   ]
  },
  {
   "cell_type": "code",
   "execution_count": 1,
   "metadata": {
    "execution": {
     "iopub.execute_input": "2024-01-28T02:42:45.836946Z",
     "iopub.status.busy": "2024-01-28T02:42:45.836020Z",
     "iopub.status.idle": "2024-01-28T02:42:59.139062Z",
     "shell.execute_reply": "2024-01-28T02:42:59.137411Z",
     "shell.execute_reply.started": "2024-01-28T02:42:45.836907Z"
    }
   },
   "outputs": [],
   "source": [
    "%%capture\n",
    "# !pip install catboost"
   ]
  },
  {
   "cell_type": "markdown",
   "metadata": {},
   "source": [
    "# **2. Load libraries**"
   ]
  },
  {
   "cell_type": "code",
   "execution_count": 2,
   "metadata": {
    "execution": {
     "iopub.execute_input": "2024-01-28T03:50:09.830411Z",
     "iopub.status.busy": "2024-01-28T03:50:09.829976Z",
     "iopub.status.idle": "2024-01-28T03:50:09.841428Z",
     "shell.execute_reply": "2024-01-28T03:50:09.839375Z",
     "shell.execute_reply.started": "2024-01-28T03:50:09.830376Z"
    }
   },
   "outputs": [
    {
     "name": "stderr",
     "output_type": "stream",
     "text": [
      "C:\\Users\\siva7\\AppData\\Roaming\\Python\\Python39\\site-packages\\pandas\\core\\computation\\expressions.py:21: UserWarning: Pandas requires version '2.8.4' or newer of 'numexpr' (version '2.8.1' currently installed).\n",
      "  from pandas.core.computation.check import NUMEXPR_INSTALLED\n",
      "C:\\Users\\siva7\\AppData\\Roaming\\Python\\Python39\\site-packages\\pandas\\core\\arrays\\masked.py:60: UserWarning: Pandas requires version '1.3.6' or newer of 'bottleneck' (version '1.3.4' currently installed).\n",
      "  from pandas.core import (\n"
     ]
    }
   ],
   "source": [
    "# Data manipulation\n",
    "#=================================================\n",
    "import pandas as pd\n",
    "import numpy as np\n",
    "\n",
    "# Data visualization\n",
    "#=================================================\n",
    "import matplotlib.pyplot as plt\n",
    "import seaborn as sns\n",
    "from wordcloud import WordCloud, STOPWORDS\n",
    "\n",
    "# Data preprocessing\n",
    "#==============================================================\n",
    "import spacy\n",
    "import re\n",
    "from sklearn.model_selection import train_test_split as tts\n",
    "from sklearn.feature_extraction.text import TfidfVectorizer\n",
    "from sklearn.decomposition import PCA\n",
    "\n",
    "# Models\n",
    "#==========================================================================\n",
    "from sklearn.linear_model import LogisticRegression\n",
    "from sklearn.ensemble import RandomForestClassifier, ExtraTreesClassifier\n",
    "from lightgbm import LGBMClassifier\n",
    "from catboost import CatBoostClassifier\n",
    "from xgboost import XGBClassifier\n",
    "\n",
    "\n",
    "# Metrics\n",
    "#============================================================================\n",
    "from sklearn.metrics import balanced_accuracy_score, accuracy_score\n",
    "from sklearn.metrics import confusion_matrix, classification_report\n",
    "from sklearn.metrics import roc_curve, roc_auc_score\n",
    "from sklearn.metrics import precision_recall_curve\n",
    "\n",
    "# tqdm\n",
    "#===============================================================\n",
    "from tqdm.auto import tqdm\n",
    "\n",
    "# warnings\n",
    "#=====================================\n",
    "import warnings\n",
    "warnings.filterwarnings('ignore')"
   ]
  },
  {
   "cell_type": "code",
   "execution_count": 3,
   "metadata": {},
   "outputs": [],
   "source": [
    "# !pip install --upgrade pandas \"dask[complete]\""
   ]
  },
  {
   "cell_type": "code",
   "execution_count": 4,
   "metadata": {},
   "outputs": [],
   "source": [
    "# !pip install lightgbm\n",
    "# !pip install catboost \n",
    "# !pip install xgboost "
   ]
  },
  {
   "cell_type": "markdown",
   "metadata": {},
   "source": [
    "# **3. Load data**"
   ]
  },
  {
   "cell_type": "code",
   "execution_count": 5,
   "metadata": {
    "execution": {
     "iopub.execute_input": "2024-01-28T02:56:55.363864Z",
     "iopub.status.busy": "2024-01-28T02:56:55.363406Z",
     "iopub.status.idle": "2024-01-28T02:56:55.721924Z",
     "shell.execute_reply": "2024-01-28T02:56:55.720532Z",
     "shell.execute_reply.started": "2024-01-28T02:56:55.363830Z"
    }
   },
   "outputs": [
    {
     "data": {
      "text/html": [
       "<div>\n",
       "<style scoped>\n",
       "    .dataframe tbody tr th:only-of-type {\n",
       "        vertical-align: middle;\n",
       "    }\n",
       "\n",
       "    .dataframe tbody tr th {\n",
       "        vertical-align: top;\n",
       "    }\n",
       "\n",
       "    .dataframe thead th {\n",
       "        text-align: right;\n",
       "    }\n",
       "</style>\n",
       "<table border=\"1\" class=\"dataframe\">\n",
       "  <thead>\n",
       "    <tr style=\"text-align: right;\">\n",
       "      <th></th>\n",
       "      <th>text</th>\n",
       "      <th>label</th>\n",
       "    </tr>\n",
       "  </thead>\n",
       "  <tbody>\n",
       "    <tr>\n",
       "      <th>0</th>\n",
       "      <td>I recently went through a breakup and she said...</td>\n",
       "      <td>depression</td>\n",
       "    </tr>\n",
       "    <tr>\n",
       "      <th>1</th>\n",
       "      <td>I do not know how to navigate these feelings, ...</td>\n",
       "      <td>depression</td>\n",
       "    </tr>\n",
       "    <tr>\n",
       "      <th>2</th>\n",
       "      <td>So I have been with my bf for 5 months , and h...</td>\n",
       "      <td>depression</td>\n",
       "    </tr>\n",
       "    <tr>\n",
       "      <th>3</th>\n",
       "      <td>I am so exhausted of this. Just when I think I...</td>\n",
       "      <td>SuicideWatch</td>\n",
       "    </tr>\n",
       "    <tr>\n",
       "      <th>4</th>\n",
       "      <td>I have been severly bullied since i was 5 till...</td>\n",
       "      <td>depression</td>\n",
       "    </tr>\n",
       "  </tbody>\n",
       "</table>\n",
       "</div>"
      ],
      "text/plain": [
       "                                                text         label\n",
       "0  I recently went through a breakup and she said...    depression\n",
       "1  I do not know how to navigate these feelings, ...    depression\n",
       "2  So I have been with my bf for 5 months , and h...    depression\n",
       "3  I am so exhausted of this. Just when I think I...  SuicideWatch\n",
       "4  I have been severly bullied since i was 5 till...    depression"
      ]
     },
     "execution_count": 5,
     "metadata": {},
     "output_type": "execute_result"
    }
   ],
   "source": [
    "data = pd.read_csv(\"mental_health.csv\")\n",
    "data.head()"
   ]
  },
  {
   "cell_type": "markdown",
   "metadata": {},
   "source": [
    "- **Data set size**"
   ]
  },
  {
   "cell_type": "code",
   "execution_count": 6,
   "metadata": {
    "execution": {
     "iopub.execute_input": "2024-01-28T02:56:57.439669Z",
     "iopub.status.busy": "2024-01-28T02:56:57.439233Z",
     "iopub.status.idle": "2024-01-28T02:56:57.449047Z",
     "shell.execute_reply": "2024-01-28T02:56:57.447706Z",
     "shell.execute_reply.started": "2024-01-28T02:56:57.439635Z"
    }
   },
   "outputs": [
    {
     "name": "stdout",
     "output_type": "stream",
     "text": [
      "Rows: 20364\n",
      "Columns: 2\n"
     ]
    }
   ],
   "source": [
    "rows, cols = data.shape[0], data.shape[1]\n",
    "\n",
    "print(f'Rows: {rows}')\n",
    "print(f'Columns: {cols}')"
   ]
  },
  {
   "cell_type": "markdown",
   "metadata": {},
   "source": [
    "- **Data set information**"
   ]
  },
  {
   "cell_type": "code",
   "execution_count": 7,
   "metadata": {
    "execution": {
     "iopub.execute_input": "2024-01-28T02:56:58.919635Z",
     "iopub.status.busy": "2024-01-28T02:56:58.919180Z",
     "iopub.status.idle": "2024-01-28T02:56:58.955371Z",
     "shell.execute_reply": "2024-01-28T02:56:58.954284Z",
     "shell.execute_reply.started": "2024-01-28T02:56:58.919596Z"
    }
   },
   "outputs": [
    {
     "name": "stdout",
     "output_type": "stream",
     "text": [
      "############################################################\n",
      "                  Data set Information\n",
      "############################################################\n",
      "<class 'pandas.core.frame.DataFrame'>\n",
      "RangeIndex: 20364 entries, 0 to 20363\n",
      "Data columns (total 2 columns):\n",
      " #   Column  Non-Null Count  Dtype \n",
      "---  ------  --------------  ----- \n",
      " 0   text    20364 non-null  object\n",
      " 1   label   20364 non-null  object\n",
      "dtypes: object(2)\n",
      "memory usage: 318.3+ KB\n",
      "None\n"
     ]
    }
   ],
   "source": [
    "print(\"##\" * 30)\n",
    "print(\" \" * 17, \"Data set Information\")\n",
    "print(\"##\" * 30)\n",
    "print(data.info())"
   ]
  },
  {
   "cell_type": "markdown",
   "metadata": {},
   "source": [
    "# **4. EDA**"
   ]
  },
  {
   "cell_type": "markdown",
   "metadata": {},
   "source": [
    "- **Duplicate rows**"
   ]
  },
  {
   "cell_type": "code",
   "execution_count": 8,
   "metadata": {
    "execution": {
     "iopub.execute_input": "2024-01-28T02:57:30.533168Z",
     "iopub.status.busy": "2024-01-28T02:57:30.532731Z",
     "iopub.status.idle": "2024-01-28T02:57:30.590316Z",
     "shell.execute_reply": "2024-01-28T02:57:30.589548Z",
     "shell.execute_reply.started": "2024-01-28T02:57:30.533136Z"
    }
   },
   "outputs": [
    {
     "name": "stdout",
     "output_type": "stream",
     "text": [
      "15\n"
     ]
    }
   ],
   "source": [
    "print(data.duplicated().sum())"
   ]
  },
  {
   "cell_type": "code",
   "execution_count": 9,
   "metadata": {
    "execution": {
     "iopub.execute_input": "2024-01-28T02:57:56.072870Z",
     "iopub.status.busy": "2024-01-28T02:57:56.072306Z",
     "iopub.status.idle": "2024-01-28T02:57:56.189783Z",
     "shell.execute_reply": "2024-01-28T02:57:56.188265Z",
     "shell.execute_reply.started": "2024-01-28T02:57:56.072826Z"
    }
   },
   "outputs": [
    {
     "name": "stdout",
     "output_type": "stream",
     "text": [
      "0\n"
     ]
    }
   ],
   "source": [
    "data = data.drop_duplicates(ignore_index = True)\n",
    "\n",
    "print(data.duplicated().sum())"
   ]
  },
  {
   "cell_type": "markdown",
   "metadata": {},
   "source": [
    "- **Missing values**"
   ]
  },
  {
   "cell_type": "code",
   "execution_count": 10,
   "metadata": {
    "execution": {
     "iopub.execute_input": "2024-01-28T02:58:53.659023Z",
     "iopub.status.busy": "2024-01-28T02:58:53.658374Z",
     "iopub.status.idle": "2024-01-28T02:58:53.680315Z",
     "shell.execute_reply": "2024-01-28T02:58:53.678629Z",
     "shell.execute_reply.started": "2024-01-28T02:58:53.658989Z"
    }
   },
   "outputs": [
    {
     "data": {
      "text/html": [
       "<div>\n",
       "<style scoped>\n",
       "    .dataframe tbody tr th:only-of-type {\n",
       "        vertical-align: middle;\n",
       "    }\n",
       "\n",
       "    .dataframe tbody tr th {\n",
       "        vertical-align: top;\n",
       "    }\n",
       "\n",
       "    .dataframe thead th {\n",
       "        text-align: right;\n",
       "    }\n",
       "</style>\n",
       "<table border=\"1\" class=\"dataframe\">\n",
       "  <thead>\n",
       "    <tr style=\"text-align: right;\">\n",
       "      <th></th>\n",
       "      <th>count</th>\n",
       "      <th>%</th>\n",
       "    </tr>\n",
       "  </thead>\n",
       "  <tbody>\n",
       "    <tr>\n",
       "      <th>text</th>\n",
       "      <td>0</td>\n",
       "      <td>0.0</td>\n",
       "    </tr>\n",
       "    <tr>\n",
       "      <th>label</th>\n",
       "      <td>0</td>\n",
       "      <td>0.0</td>\n",
       "    </tr>\n",
       "  </tbody>\n",
       "</table>\n",
       "</div>"
      ],
      "text/plain": [
       "       count    %\n",
       "text       0  0.0\n",
       "label      0  0.0"
      ]
     },
     "execution_count": 10,
     "metadata": {},
     "output_type": "execute_result"
    }
   ],
   "source": [
    "df_null_values = data.isnull().sum().to_frame().rename(columns = {0:'count'})\n",
    "df_null_values['%'] = (df_null_values['count'] / len(data)) * 100\n",
    "df_null_values"
   ]
  },
  {
   "cell_type": "code",
   "execution_count": 11,
   "metadata": {},
   "outputs": [],
   "source": [
    "data = data[:1000]"
   ]
  },
  {
   "cell_type": "code",
   "execution_count": 12,
   "metadata": {},
   "outputs": [
    {
     "name": "stdout",
     "output_type": "stream",
     "text": [
      "1000\n"
     ]
    }
   ],
   "source": [
    "print(len(data))"
   ]
  },
  {
   "cell_type": "markdown",
   "metadata": {},
   "source": [
    "- **WordCloud**"
   ]
  },
  {
   "cell_type": "code",
   "execution_count": 13,
   "metadata": {
    "execution": {
     "iopub.execute_input": "2024-01-28T02:59:03.515338Z",
     "iopub.status.busy": "2024-01-28T02:59:03.514899Z",
     "iopub.status.idle": "2024-01-28T02:59:16.940140Z",
     "shell.execute_reply": "2024-01-28T02:59:16.939196Z",
     "shell.execute_reply.started": "2024-01-28T02:59:03.515306Z"
    }
   },
   "outputs": [
    {
     "data": {
      "image/png": "[encoded data removed]",
      "text/plain": [
       "<Figure size 648x288 with 1 Axes>"
      ]
     },
     "metadata": {
      "needs_background": "light"
     },
     "output_type": "display_data"
    }
   ],
   "source": [
    "all_text = \" \".join(data['text'])\n",
    "wc = WordCloud(stopwords = STOPWORDS).generate(all_text)\n",
    "\n",
    "plt.figure(figsize = (9,4))\n",
    "plt.imshow(wc)\n",
    "plt.axis('off')\n",
    "plt.show()"
   ]
  },
  {
   "cell_type": "markdown",
   "metadata": {},
   "source": [
    "- **Text length**"
   ]
  },
  {
   "cell_type": "code",
   "execution_count": 14,
   "metadata": {
    "execution": {
     "iopub.execute_input": "2024-01-28T03:17:32.243801Z",
     "iopub.status.busy": "2024-01-28T03:17:32.242624Z",
     "iopub.status.idle": "2024-01-28T03:17:33.542940Z",
     "shell.execute_reply": "2024-01-28T03:17:33.541708Z",
     "shell.execute_reply.started": "2024-01-28T03:17:32.243752Z"
    }
   },
   "outputs": [
    {
     "name": "stdout",
     "output_type": "stream",
     "text": [
      "--------------------------\n",
      "Max lenght: 2153\n",
      "--------------------------\n"
     ]
    },
    {
     "data": {
      "image/png": "[encoded data removed]",
      "text/plain": [
       "<Figure size 504x252 with 1 Axes>"
      ]
     },
     "metadata": {
      "needs_background": "light"
     },
     "output_type": "display_data"
    }
   ],
   "source": [
    "length_seq = [len(txt.split()) for txt in data['text']]\n",
    "print(\"--------------------------\")\n",
    "print(f'Max lenght: {max(length_seq)}')\n",
    "print(\"--------------------------\")\n",
    "\n",
    "fig,ax = plt.subplots(figsize = (7,3.5))\n",
    "sns.set_style('darkgrid')\n",
    "sns.kdeplot(length_seq, fill = True, color = 'yellowgreen', ax = ax)\n",
    "sns.histplot(length_seq, stat = 'density', bins = 30, fill = False, color = 'yellowgreen', ax = ax)\n",
    "sns.rugplot(length_seq, color = 'darkblue', ax = ax)\n",
    "fig.show()"
   ]
  },
  {
   "cell_type": "markdown",
   "metadata": {},
   "source": [
    "- **Distribution of labels**"
   ]
  },
  {
   "cell_type": "code",
   "execution_count": 15,
   "metadata": {
    "execution": {
     "iopub.execute_input": "2024-01-28T03:13:17.746572Z",
     "iopub.status.busy": "2024-01-28T03:13:17.746144Z",
     "iopub.status.idle": "2024-01-28T03:13:18.060738Z",
     "shell.execute_reply": "2024-01-28T03:13:18.059552Z",
     "shell.execute_reply.started": "2024-01-28T03:13:17.746537Z"
    }
   },
   "outputs": [
    {
     "data": {
      "image/png": "[encoded data removed]",
      "text/plain": [
       "<Figure size 432x252 with 1 Axes>"
      ]
     },
     "metadata": {},
     "output_type": "display_data"
    }
   ],
   "source": [
    "plt.style.use('ggplot')\n",
    "\n",
    "def autopct_fun(abs_values):\n",
    "    gen = iter(abs_values)\n",
    "    return lambda pct: f\"{pct:.1f}%\\n({next(gen)})\"\n",
    "\n",
    "fig,ax = plt.subplots(figsize = (6,3.5))\n",
    "df_class = data['label'].value_counts().to_frame()\n",
    "labels = df_class.index\n",
    "values = df_class.iloc[:,0].to_list()\n",
    "ax.pie(x = values, labels = labels, autopct = autopct_fun(values), shadow = True, textprops = {'color':'white', 'fontsize':10, 'fontweight':'bold'})\n",
    "ax.legend(labels, loc = 'best')\n",
    "ax.set_title('label', fontsize = 12, fontweight = \"bold\", color = \"black\")\n",
    "ax.axis('equal')\n",
    "\n",
    "fig.show()"
   ]
  },
  {
   "cell_type": "markdown",
   "metadata": {},
   "source": [
    "**We see that the classes are balanced.**"
   ]
  },
  {
   "cell_type": "markdown",
   "metadata": {},
   "source": [
    "# **5. Preprocessing**"
   ]
  },
  {
   "cell_type": "markdown",
   "metadata": {},
   "source": [
    "- **Text preprocessing**"
   ]
  },
  {
   "cell_type": "code",
   "execution_count": 16,
   "metadata": {
    "execution": {
     "iopub.execute_input": "2024-01-28T03:00:59.705680Z",
     "iopub.status.busy": "2024-01-28T03:00:59.705144Z",
     "iopub.status.idle": "2024-01-28T03:01:01.111193Z",
     "shell.execute_reply": "2024-01-28T03:01:01.110113Z",
     "shell.execute_reply.started": "2024-01-28T03:00:59.705632Z"
    }
   },
   "outputs": [],
   "source": [
    "nlp = spacy.load(\"en_core_web_sm\")"
   ]
  },
  {
   "cell_type": "code",
   "execution_count": 17,
   "metadata": {
    "execution": {
     "iopub.execute_input": "2024-01-28T03:01:07.345342Z",
     "iopub.status.busy": "2024-01-28T03:01:07.344554Z",
     "iopub.status.idle": "2024-01-28T03:01:07.353314Z",
     "shell.execute_reply": "2024-01-28T03:01:07.352015Z",
     "shell.execute_reply.started": "2024-01-28T03:01:07.345305Z"
    }
   },
   "outputs": [],
   "source": [
    "def preprocess_text(txt:str):\n",
    "    \n",
    "    txt = re.sub('[^a-zA-Z]', ' ', txt)\n",
    "    txt = txt.lower()\n",
    "    txt = \" \".join(txt.split())\n",
    "    \n",
    "    doc = nlp(txt)\n",
    "    \n",
    "    tokens_filtered = []\n",
    "    \n",
    "    for token in doc:\n",
    "        if token.is_stop or token.is_punct:\n",
    "            continue\n",
    "            \n",
    "        tokens_filtered.append(token.lemma_)\n",
    "        \n",
    "    return \" \".join(tokens_filtered)"
   ]
  },
  {
   "cell_type": "code",
   "execution_count": 18,
   "metadata": {
    "execution": {
     "iopub.execute_input": "2024-01-28T03:01:15.467082Z",
     "iopub.status.busy": "2024-01-28T03:01:15.466605Z",
     "iopub.status.idle": "2024-01-28T03:13:06.585756Z",
     "shell.execute_reply": "2024-01-28T03:13:06.584583Z",
     "shell.execute_reply.started": "2024-01-28T03:01:15.467047Z"
    }
   },
   "outputs": [],
   "source": [
    "data['text_prep'] = data['text'].apply(preprocess_text)"
   ]
  },
  {
   "cell_type": "code",
   "execution_count": 19,
   "metadata": {
    "execution": {
     "iopub.execute_input": "2024-01-28T03:14:39.335322Z",
     "iopub.status.busy": "2024-01-28T03:14:39.334913Z",
     "iopub.status.idle": "2024-01-28T03:14:39.351030Z",
     "shell.execute_reply": "2024-01-28T03:14:39.349724Z",
     "shell.execute_reply.started": "2024-01-28T03:14:39.335290Z"
    }
   },
   "outputs": [
    {
     "data": {
      "text/html": [
       "<div>\n",
       "<style scoped>\n",
       "    .dataframe tbody tr th:only-of-type {\n",
       "        vertical-align: middle;\n",
       "    }\n",
       "\n",
       "    .dataframe tbody tr th {\n",
       "        vertical-align: top;\n",
       "    }\n",
       "\n",
       "    .dataframe thead th {\n",
       "        text-align: right;\n",
       "    }\n",
       "</style>\n",
       "<table border=\"1\" class=\"dataframe\">\n",
       "  <thead>\n",
       "    <tr style=\"text-align: right;\">\n",
       "      <th></th>\n",
       "      <th>text</th>\n",
       "      <th>label</th>\n",
       "      <th>text_prep</th>\n",
       "    </tr>\n",
       "  </thead>\n",
       "  <tbody>\n",
       "    <tr>\n",
       "      <th>0</th>\n",
       "      <td>I recently went through a breakup and she said...</td>\n",
       "      <td>depression</td>\n",
       "      <td>recently go breakup say want friend say try ta...</td>\n",
       "    </tr>\n",
       "    <tr>\n",
       "      <th>1</th>\n",
       "      <td>I do not know how to navigate these feelings, ...</td>\n",
       "      <td>depression</td>\n",
       "      <td>know navigate feeling new feeling stretch unde...</td>\n",
       "    </tr>\n",
       "    <tr>\n",
       "      <th>2</th>\n",
       "      <td>So I have been with my bf for 5 months , and h...</td>\n",
       "      <td>depression</td>\n",
       "      <td>bf month tell depressed week particular happen...</td>\n",
       "    </tr>\n",
       "    <tr>\n",
       "      <th>3</th>\n",
       "      <td>I am so exhausted of this. Just when I think I...</td>\n",
       "      <td>SuicideWatch</td>\n",
       "      <td>exhausted think finally rest think maybe thing...</td>\n",
       "    </tr>\n",
       "    <tr>\n",
       "      <th>4</th>\n",
       "      <td>I have been severly bullied since i was 5 till...</td>\n",
       "      <td>depression</td>\n",
       "      <td>severly bully till result depressed misanthrop...</td>\n",
       "    </tr>\n",
       "  </tbody>\n",
       "</table>\n",
       "</div>"
      ],
      "text/plain": [
       "                                                text         label  \\\n",
       "0  I recently went through a breakup and she said...    depression   \n",
       "1  I do not know how to navigate these feelings, ...    depression   \n",
       "2  So I have been with my bf for 5 months , and h...    depression   \n",
       "3  I am so exhausted of this. Just when I think I...  SuicideWatch   \n",
       "4  I have been severly bullied since i was 5 till...    depression   \n",
       "\n",
       "                                           text_prep  \n",
       "0  recently go breakup say want friend say try ta...  \n",
       "1  know navigate feeling new feeling stretch unde...  \n",
       "2  bf month tell depressed week particular happen...  \n",
       "3  exhausted think finally rest think maybe thing...  \n",
       "4  severly bully till result depressed misanthrop...  "
      ]
     },
     "execution_count": 19,
     "metadata": {},
     "output_type": "execute_result"
    }
   ],
   "source": [
    "data.head()"
   ]
  },
  {
   "cell_type": "code",
   "execution_count": 20,
   "metadata": {
    "execution": {
     "iopub.execute_input": "2024-01-28T03:21:38.418236Z",
     "iopub.status.busy": "2024-01-28T03:21:38.417794Z",
     "iopub.status.idle": "2024-01-28T03:21:38.427769Z",
     "shell.execute_reply": "2024-01-28T03:21:38.426585Z",
     "shell.execute_reply.started": "2024-01-28T03:21:38.418203Z"
    }
   },
   "outputs": [
    {
     "data": {
      "text/plain": [
       "array(['depression', 'SuicideWatch'], dtype=object)"
      ]
     },
     "execution_count": 20,
     "metadata": {},
     "output_type": "execute_result"
    }
   ],
   "source": [
    "LABELS = data['label'].unique()\n",
    "LABELS"
   ]
  },
  {
   "cell_type": "code",
   "execution_count": 21,
   "metadata": {
    "execution": {
     "iopub.execute_input": "2024-01-28T03:22:15.647656Z",
     "iopub.status.busy": "2024-01-28T03:22:15.647198Z",
     "iopub.status.idle": "2024-01-28T03:22:15.656085Z",
     "shell.execute_reply": "2024-01-28T03:22:15.654909Z",
     "shell.execute_reply.started": "2024-01-28T03:22:15.647623Z"
    }
   },
   "outputs": [
    {
     "data": {
      "text/plain": [
       "{'depression': 0.0, 'SuicideWatch': 1.0}"
      ]
     },
     "execution_count": 21,
     "metadata": {},
     "output_type": "execute_result"
    }
   ],
   "source": [
    "label2id = dict(zip(LABELS, np.arange(len(LABELS), dtype = np.float32)))\n",
    "label2id"
   ]
  },
  {
   "cell_type": "code",
   "execution_count": 22,
   "metadata": {
    "execution": {
     "iopub.execute_input": "2024-01-28T03:22:36.548369Z",
     "iopub.status.busy": "2024-01-28T03:22:36.547949Z",
     "iopub.status.idle": "2024-01-28T03:22:36.558589Z",
     "shell.execute_reply": "2024-01-28T03:22:36.557048Z",
     "shell.execute_reply.started": "2024-01-28T03:22:36.548340Z"
    }
   },
   "outputs": [],
   "source": [
    "data['label_prep'] = data['label'].map(label2id)"
   ]
  },
  {
   "cell_type": "markdown",
   "metadata": {},
   "source": [
    "- **Text length after preprocessing**"
   ]
  },
  {
   "cell_type": "code",
   "execution_count": 23,
   "metadata": {
    "execution": {
     "iopub.execute_input": "2024-01-28T03:17:06.224631Z",
     "iopub.status.busy": "2024-01-28T03:17:06.224146Z",
     "iopub.status.idle": "2024-01-28T03:17:07.425592Z",
     "shell.execute_reply": "2024-01-28T03:17:07.424250Z",
     "shell.execute_reply.started": "2024-01-28T03:17:06.224596Z"
    }
   },
   "outputs": [
    {
     "name": "stdout",
     "output_type": "stream",
     "text": [
      "########################################\n",
      "Max lenght: 729\n",
      "########################################\n"
     ]
    },
    {
     "data": {
      "image/png": "[encoded data removed]",
      "text/plain": [
       "<Figure size 504x252 with 1 Axes>"
      ]
     },
     "metadata": {},
     "output_type": "display_data"
    }
   ],
   "source": [
    "length_seq_after = [len(txt.split()) for txt in data['text_prep']]\n",
    "\n",
    "print(\"##\" * 20)\n",
    "print(f'Max lenght: {max(length_seq_after)}')\n",
    "print(\"##\" * 20)\n",
    "\n",
    "fig,ax = plt.subplots(figsize = (7,3.5))\n",
    "sns.set_style('darkgrid')\n",
    "sns.kdeplot(length_seq_after, fill = True, color = 'yellowgreen', ax = ax)\n",
    "sns.histplot(length_seq_after, stat = 'density', bins = 30, fill = False, color = 'yellowgreen', ax = ax)\n",
    "sns.rugplot(length_seq_after, color = 'darkblue', ax = ax)\n",
    "fig.show()"
   ]
  },
  {
   "cell_type": "markdown",
   "metadata": {},
   "source": [
    "**`Split the data set into:`**\n",
    "- **train = 70%**\n",
    "- **test = 30%**"
   ]
  },
  {
   "cell_type": "code",
   "execution_count": 24,
   "metadata": {
    "execution": {
     "iopub.execute_input": "2024-01-28T03:22:59.023734Z",
     "iopub.status.busy": "2024-01-28T03:22:59.023308Z",
     "iopub.status.idle": "2024-01-28T03:22:59.034327Z",
     "shell.execute_reply": "2024-01-28T03:22:59.033223Z",
     "shell.execute_reply.started": "2024-01-28T03:22:59.023702Z"
    }
   },
   "outputs": [],
   "source": [
    "X = data['text_prep']\n",
    "y = data['label_prep']\n",
    "\n",
    "SEED = 1234\n",
    "\n",
    "X_train, X_test, y_train, y_test = tts(X,\n",
    "                                       y, \n",
    "                                       test_size = 0.3, \n",
    "                                       random_state = SEED)"
   ]
  },
  {
   "cell_type": "code",
   "execution_count": 25,
   "metadata": {
    "execution": {
     "iopub.execute_input": "2024-01-28T03:23:05.939248Z",
     "iopub.status.busy": "2024-01-28T03:23:05.938848Z",
     "iopub.status.idle": "2024-01-28T03:23:05.948699Z",
     "shell.execute_reply": "2024-01-28T03:23:05.947794Z",
     "shell.execute_reply.started": "2024-01-28T03:23:05.939217Z"
    }
   },
   "outputs": [
    {
     "data": {
      "text/plain": [
       "label_prep\n",
       "1.0    355\n",
       "0.0    345\n",
       "Name: count, dtype: int64"
      ]
     },
     "execution_count": 25,
     "metadata": {},
     "output_type": "execute_result"
    }
   ],
   "source": [
    "y_train.value_counts()"
   ]
  },
  {
   "cell_type": "code",
   "execution_count": 26,
   "metadata": {
    "execution": {
     "iopub.execute_input": "2024-01-28T03:23:08.540709Z",
     "iopub.status.busy": "2024-01-28T03:23:08.539607Z",
     "iopub.status.idle": "2024-01-28T03:23:08.552421Z",
     "shell.execute_reply": "2024-01-28T03:23:08.551160Z",
     "shell.execute_reply.started": "2024-01-28T03:23:08.540653Z"
    }
   },
   "outputs": [
    {
     "data": {
      "text/plain": [
       "label_prep\n",
       "1.0    154\n",
       "0.0    146\n",
       "Name: count, dtype: int64"
      ]
     },
     "execution_count": 26,
     "metadata": {},
     "output_type": "execute_result"
    }
   ],
   "source": [
    "y_test.value_counts()"
   ]
  },
  {
   "cell_type": "markdown",
   "metadata": {},
   "source": [
    "- **TfidfVectorizer**"
   ]
  },
  {
   "cell_type": "code",
   "execution_count": 27,
   "metadata": {
    "execution": {
     "iopub.execute_input": "2024-01-28T03:23:13.140619Z",
     "iopub.status.busy": "2024-01-28T03:23:13.140190Z",
     "iopub.status.idle": "2024-01-28T03:23:17.741067Z",
     "shell.execute_reply": "2024-01-28T03:23:17.739879Z",
     "shell.execute_reply.started": "2024-01-28T03:23:13.140584Z"
    }
   },
   "outputs": [],
   "source": [
    "vectorizer = TfidfVectorizer()\n",
    "train_vectorizer = vectorizer.fit_transform(X_train)\n",
    "test_vectorizer = vectorizer.transform(X_test)\n",
    "\n",
    "train_vectorizer = train_vectorizer.toarray()\n",
    "test_vectorizer = test_vectorizer.toarray()"
   ]
  },
  {
   "cell_type": "markdown",
   "metadata": {},
   "source": [
    "# **6. Models**"
   ]
  },
  {
   "cell_type": "code",
   "execution_count": 28,
   "metadata": {
    "execution": {
     "iopub.execute_input": "2024-01-28T03:27:47.394509Z",
     "iopub.status.busy": "2024-01-28T03:27:47.394056Z",
     "iopub.status.idle": "2024-01-28T03:27:47.404256Z",
     "shell.execute_reply": "2024-01-28T03:27:47.403052Z",
     "shell.execute_reply.started": "2024-01-28T03:27:47.394458Z"
    }
   },
   "outputs": [],
   "source": [
    "# We define the candidate models.\n",
    "lr = LogisticRegression(random_state = SEED, n_jobs = -1)\n",
    "rf = RandomForestClassifier(random_state = SEED, n_jobs = -1)\n",
    "et = ExtraTreesClassifier(bootstrap = True, n_jobs = -1, random_state = SEED)\n",
    "xgb = XGBClassifier(random_state = SEED, n_jobs = -1)\n",
    "lgbm = LGBMClassifier(random_state = SEED, n_jobs = -1)\n",
    "cb = CatBoostClassifier(random_state = SEED, verbose = 0)\n",
    "\n",
    "MODELS = [lr, rf, et, xgb, lgbm, cb]"
   ]
  },
  {
   "cell_type": "code",
   "execution_count": 29,
   "metadata": {
    "execution": {
     "iopub.execute_input": "2024-01-28T03:27:49.305342Z",
     "iopub.status.busy": "2024-01-28T03:27:49.304180Z",
     "iopub.status.idle": "2024-01-28T03:46:50.138736Z",
     "shell.execute_reply": "2024-01-28T03:46:50.137211Z",
     "shell.execute_reply.started": "2024-01-28T03:27:49.305291Z"
    }
   },
   "outputs": [
    {
     "data": {
      "application/vnd.jupyter.widget-view+json": {
       "model_id": "2f50dc328768498a8cc1652f816c1dab",
       "version_major": 2,
       "version_minor": 0
      },
      "text/plain": [
       "  0%|          | 0/6 [00:00<?, ?it/s]"
      ]
     },
     "metadata": {},
     "output_type": "display_data"
    },
    {
     "name": "stdout",
     "output_type": "stream",
     "text": [
      "* LogisticRegression finished\n",
      "* RandomForestClassifier finished\n",
      "* ExtraTreesClassifier finished\n",
      "* XGBClassifier finished\n",
      "[LightGBM] [Info] Number of positive: 355, number of negative: 345\n",
      "[LightGBM] [Info] Auto-choosing row-wise multi-threading, the overhead of testing was 0.009414 seconds.\n",
      "You can set `force_row_wise=true` to remove the overhead.\n",
      "And if memory is not enough, you can set `force_col_wise=true`.\n",
      "[LightGBM] [Info] Total Bins 6985\n",
      "[LightGBM] [Info] Number of data points in the train set: 700, number of used features: 336\n",
      "[LightGBM] [Info] [binary:BoostFromScore]: pavg=0.507143 -> initscore=0.028573\n",
      "[LightGBM] [Info] Start training from score 0.028573\n",
      "[LightGBM] [Warning] No further splits with positive gain, best gain: -inf\n",
      "[LightGBM] [Warning] No further splits with positive gain, best gain: -inf\n",
      "[LightGBM] [Warning] No further splits with positive gain, best gain: -inf\n",
      "[LightGBM] [Warning] No further splits with positive gain, best gain: -inf\n",
      "[LightGBM] [Warning] No further splits with positive gain, best gain: -inf\n",
      "[LightGBM] [Warning] No further splits with positive gain, best gain: -inf\n",
      "[LightGBM] [Warning] No further splits with positive gain, best gain: -inf\n",
      "[LightGBM] [Warning] No further splits with positive gain, best gain: -inf\n",
      "[LightGBM] [Warning] No further splits with positive gain, best gain: -inf\n",
      "[LightGBM] [Warning] No further splits with positive gain, best gain: -inf\n",
      "[LightGBM] [Warning] No further splits with positive gain, best gain: -inf\n",
      "[LightGBM] [Warning] No further splits with positive gain, best gain: -inf\n",
      "[LightGBM] [Warning] No further splits with positive gain, best gain: -inf\n",
      "[LightGBM] [Warning] No further splits with positive gain, best gain: -inf\n",
      "[LightGBM] [Warning] No further splits with positive gain, best gain: -inf\n",
      "[LightGBM] [Warning] No further splits with positive gain, best gain: -inf\n",
      "[LightGBM] [Warning] No further splits with positive gain, best gain: -inf\n",
      "[LightGBM] [Warning] No further splits with positive gain, best gain: -inf\n",
      "[LightGBM] [Warning] No further splits with positive gain, best gain: -inf\n",
      "[LightGBM] [Warning] No further splits with positive gain, best gain: -inf\n",
      "[LightGBM] [Warning] No further splits with positive gain, best gain: -inf\n",
      "[LightGBM] [Warning] No further splits with positive gain, best gain: -inf\n",
      "[LightGBM] [Warning] No further splits with positive gain, best gain: -inf\n",
      "[LightGBM] [Warning] No further splits with positive gain, best gain: -inf\n",
      "[LightGBM] [Warning] No further splits with positive gain, best gain: -inf\n",
      "[LightGBM] [Warning] No further splits with positive gain, best gain: -inf\n",
      "[LightGBM] [Warning] No further splits with positive gain, best gain: -inf\n",
      "[LightGBM] [Warning] No further splits with positive gain, best gain: -inf\n",
      "[LightGBM] [Warning] No further splits with positive gain, best gain: -inf\n",
      "[LightGBM] [Warning] No further splits with positive gain, best gain: -inf\n",
      "[LightGBM] [Warning] No further splits with positive gain, best gain: -inf\n",
      "[LightGBM] [Warning] No further splits with positive gain, best gain: -inf\n",
      "[LightGBM] [Warning] No further splits with positive gain, best gain: -inf\n",
      "[LightGBM] [Warning] No further splits with positive gain, best gain: -inf\n",
      "[LightGBM] [Warning] No further splits with positive gain, best gain: -inf\n",
      "[LightGBM] [Warning] No further splits with positive gain, best gain: -inf\n",
      "[LightGBM] [Warning] No further splits with positive gain, best gain: -inf\n",
      "[LightGBM] [Warning] No further splits with positive gain, best gain: -inf\n",
      "[LightGBM] [Warning] No further splits with positive gain, best gain: -inf\n",
      "[LightGBM] [Warning] No further splits with positive gain, best gain: -inf\n",
      "[LightGBM] [Warning] No further splits with positive gain, best gain: -inf\n",
      "[LightGBM] [Warning] No further splits with positive gain, best gain: -inf\n",
      "[LightGBM] [Warning] No further splits with positive gain, best gain: -inf\n",
      "[LightGBM] [Warning] No further splits with positive gain, best gain: -inf\n",
      "[LightGBM] [Warning] No further splits with positive gain, best gain: -inf\n",
      "[LightGBM] [Warning] No further splits with positive gain, best gain: -inf\n",
      "[LightGBM] [Warning] No further splits with positive gain, best gain: -inf\n",
      "[LightGBM] [Warning] No further splits with positive gain, best gain: -inf\n",
      "[LightGBM] [Warning] No further splits with positive gain, best gain: -inf\n",
      "[LightGBM] [Warning] No further splits with positive gain, best gain: -inf\n",
      "[LightGBM] [Warning] No further splits with positive gain, best gain: -inf\n",
      "[LightGBM] [Warning] No further splits with positive gain, best gain: -inf\n",
      "[LightGBM] [Warning] No further splits with positive gain, best gain: -inf\n",
      "[LightGBM] [Warning] No further splits with positive gain, best gain: -inf\n",
      "[LightGBM] [Warning] No further splits with positive gain, best gain: -inf\n",
      "[LightGBM] [Warning] No further splits with positive gain, best gain: -inf\n",
      "[LightGBM] [Warning] No further splits with positive gain, best gain: -inf\n",
      "[LightGBM] [Warning] No further splits with positive gain, best gain: -inf\n",
      "[LightGBM] [Warning] No further splits with positive gain, best gain: -inf\n",
      "[LightGBM] [Warning] No further splits with positive gain, best gain: -inf\n",
      "[LightGBM] [Warning] No further splits with positive gain, best gain: -inf\n",
      "[LightGBM] [Warning] No further splits with positive gain, best gain: -inf\n",
      "[LightGBM] [Warning] No further splits with positive gain, best gain: -inf\n",
      "[LightGBM] [Warning] No further splits with positive gain, best gain: -inf\n",
      "[LightGBM] [Warning] No further splits with positive gain, best gain: -inf\n",
      "[LightGBM] [Warning] No further splits with positive gain, best gain: -inf\n",
      "[LightGBM] [Warning] No further splits with positive gain, best gain: -inf\n",
      "[LightGBM] [Warning] No further splits with positive gain, best gain: -inf\n",
      "[LightGBM] [Warning] No further splits with positive gain, best gain: -inf\n",
      "[LightGBM] [Warning] No further splits with positive gain, best gain: -inf\n",
      "[LightGBM] [Warning] No further splits with positive gain, best gain: -inf\n",
      "[LightGBM] [Warning] No further splits with positive gain, best gain: -inf\n",
      "[LightGBM] [Warning] No further splits with positive gain, best gain: -inf\n",
      "[LightGBM] [Warning] No further splits with positive gain, best gain: -inf\n",
      "[LightGBM] [Warning] No further splits with positive gain, best gain: -inf\n",
      "[LightGBM] [Warning] No further splits with positive gain, best gain: -inf\n",
      "[LightGBM] [Warning] No further splits with positive gain, best gain: -inf\n",
      "[LightGBM] [Warning] No further splits with positive gain, best gain: -inf\n",
      "[LightGBM] [Warning] No further splits with positive gain, best gain: -inf\n",
      "[LightGBM] [Warning] No further splits with positive gain, best gain: -inf\n",
      "[LightGBM] [Warning] No further splits with positive gain, best gain: -inf\n",
      "[LightGBM] [Warning] No further splits with positive gain, best gain: -inf\n",
      "[LightGBM] [Warning] No further splits with positive gain, best gain: -inf\n",
      "[LightGBM] [Warning] No further splits with positive gain, best gain: -inf\n",
      "[LightGBM] [Warning] No further splits with positive gain, best gain: -inf\n",
      "[LightGBM] [Warning] No further splits with positive gain, best gain: -inf\n",
      "[LightGBM] [Warning] No further splits with positive gain, best gain: -inf\n",
      "[LightGBM] [Warning] No further splits with positive gain, best gain: -inf\n",
      "[LightGBM] [Warning] No further splits with positive gain, best gain: -inf\n",
      "[LightGBM] [Warning] No further splits with positive gain, best gain: -inf\n",
      "[LightGBM] [Warning] No further splits with positive gain, best gain: -inf\n",
      "[LightGBM] [Warning] No further splits with positive gain, best gain: -inf\n",
      "[LightGBM] [Warning] No further splits with positive gain, best gain: -inf\n",
      "[LightGBM] [Warning] No further splits with positive gain, best gain: -inf\n",
      "[LightGBM] [Warning] No further splits with positive gain, best gain: -inf\n",
      "[LightGBM] [Warning] No further splits with positive gain, best gain: -inf\n",
      "[LightGBM] [Warning] No further splits with positive gain, best gain: -inf\n",
      "[LightGBM] [Warning] No further splits with positive gain, best gain: -inf\n",
      "[LightGBM] [Warning] No further splits with positive gain, best gain: -inf\n",
      "[LightGBM] [Warning] No further splits with positive gain, best gain: -inf\n",
      "* LGBMClassifier finished\n"
     ]
    },
    {
     "name": "stdout",
     "output_type": "stream",
     "text": [
      "* CatBoostClassifier finished\n"
     ]
    }
   ],
   "source": [
    "# Training!!!\n",
    "\n",
    "accuracy_train = {}\n",
    "accuracy_test = {}\n",
    "\n",
    "for model in tqdm(MODELS):\n",
    "    name = type(model).__name__\n",
    "    model.fit(train_vectorizer, y_train)\n",
    "    y_pred_train = model.predict(train_vectorizer)\n",
    "    accuracy_train[name] = accuracy_score(y_train, y_pred_train)\n",
    "    y_pred_test = model.predict(test_vectorizer)\n",
    "    accuracy_test[name] = accuracy_score(y_test, y_pred_test)\n",
    "    print(f'* {name} finished')"
   ]
  },
  {
   "cell_type": "code",
   "execution_count": 30,
   "metadata": {
    "execution": {
     "iopub.execute_input": "2024-01-28T03:47:58.694186Z",
     "iopub.status.busy": "2024-01-28T03:47:58.693755Z",
     "iopub.status.idle": "2024-01-28T03:47:59.293680Z",
     "shell.execute_reply": "2024-01-28T03:47:59.292575Z",
     "shell.execute_reply.started": "2024-01-28T03:47:58.694152Z"
    }
   },
   "outputs": [
    {
     "data": {
      "image/png": "[encoded data removed]",
      "text/plain": [
       "<Figure size 1008x360 with 1 Axes>"
      ]
     },
     "metadata": {},
     "output_type": "display_data"
    }
   ],
   "source": [
    "metric_train = pd.DataFrame.from_dict(accuracy_train, orient = 'index')\n",
    "metric_train = metric_train.rename(columns = {0:'Train'})\n",
    "\n",
    "metric_test = pd.DataFrame.from_dict(accuracy_test, orient = 'index')\n",
    "metric_test = metric_test.rename(columns = {0:'Test'})\n",
    "\n",
    "fig,ax = plt.subplots(figsize = (14,5))\n",
    "plt.style.use('ggplot')\n",
    "\n",
    "labels = metric_train.index.to_list()\n",
    "values_train = metric_train.iloc[:,0].to_list()\n",
    "values_test = metric_test.iloc[:,0].to_list()\n",
    "x = np.arange(len(labels))\n",
    "width = 0.35\n",
    "\n",
    "rects1 = ax.bar(x = x - width/2, height = values_train, width = width, label = 'Train')\n",
    "rects2 = ax.bar(x = x + width/2, height = values_test, width = width, label = 'Test')\n",
    "\n",
    "\n",
    "def autolabel(rects):\n",
    "    for rect in rects:\n",
    "        height = rect.get_height()\n",
    "        ax.annotate(text = f'{height:.4f}', \n",
    "                    xy = (rect.get_x() + rect.get_width()/2, height), \n",
    "                    xytext = (0,3), \n",
    "                    textcoords = \"offset points\", \n",
    "                    ha = \"center\", \n",
    "                    va = \"bottom\")\n",
    "        \n",
    "autolabel(rects1)\n",
    "autolabel(rects2)\n",
    "ax.set_title(\"Metric of Performance: Accuracy\", fontsize = 12, fontweight = \"bold\", color = \"black\")\n",
    "ax.set_ylabel(\"score\", fontsize = 10, fontweight = \"bold\", color = \"black\")\n",
    "ax.set_xlabel(\"Models\", fontsize = 10, fontweight = \"bold\", color = \"black\")\n",
    "ax.set_xticks(x)\n",
    "ax.set_xticklabels(labels)\n",
    "ax.legend()\n",
    "fig.show()"
   ]
  },
  {
   "cell_type": "markdown",
   "metadata": {},
   "source": [
    "The best model among all the candidates is **CatBoostClassifier**, so we will calculate some additional metrics based on this model."
   ]
  },
  {
   "cell_type": "markdown",
   "metadata": {},
   "source": [
    "# **7. Metrics**"
   ]
  },
  {
   "cell_type": "code",
   "execution_count": 36,
   "metadata": {
    "execution": {
     "iopub.status.busy": "2024-01-28T04:17:58.184894Z",
     "iopub.status.idle": "2024-01-28T04:17:58.185650Z",
     "shell.execute_reply": "2024-01-28T04:17:58.185408Z",
     "shell.execute_reply.started": "2024-01-28T04:17:58.185387Z"
    }
   },
   "outputs": [],
   "source": [
    "# Predictions!!!\n",
    "\n",
    "y_pred_train = cb.predict(train_vectorizer)\n",
    "y_pred_test = cb.predict(test_vectorizer)\n",
    "\n",
    "y_pred_prob_train = cb.predict_proba(train_vectorizer)[:,1]\n",
    "\n",
    "y_pred_prob_test = cb.predict_proba(test_vectorizer)[:,1]"
   ]
  },
  {
   "cell_type": "markdown",
   "metadata": {},
   "source": [
    "- **Classification Report**"
   ]
  },
  {
   "cell_type": "code",
   "execution_count": 37,
   "metadata": {
    "execution": {
     "iopub.execute_input": "2024-01-28T04:20:32.582754Z",
     "iopub.status.busy": "2024-01-28T04:20:32.582308Z",
     "iopub.status.idle": "2024-01-28T04:20:32.657844Z",
     "shell.execute_reply": "2024-01-28T04:20:32.656608Z",
     "shell.execute_reply.started": "2024-01-28T04:20:32.582719Z"
    }
   },
   "outputs": [
    {
     "name": "stdout",
     "output_type": "stream",
     "text": [
      "############################################################\n",
      "              Classification Report Train\n",
      "############################################################\n",
      "              precision    recall  f1-score   support\n",
      "\n",
      "  depression       0.98      0.95      0.96       345\n",
      "SuicideWatch       0.95      0.98      0.97       355\n",
      "\n",
      "    accuracy                           0.97       700\n",
      "   macro avg       0.97      0.97      0.97       700\n",
      "weighted avg       0.97      0.97      0.97       700\n",
      "\n",
      "\n",
      "############################################################\n",
      "              Classification Report Test\n",
      "############################################################\n",
      "              precision    recall  f1-score   support\n",
      "\n",
      "  depression       0.67      0.63      0.65       146\n",
      "SuicideWatch       0.67      0.71      0.69       154\n",
      "\n",
      "    accuracy                           0.67       300\n",
      "   macro avg       0.67      0.67      0.67       300\n",
      "weighted avg       0.67      0.67      0.67       300\n",
      "\n"
     ]
    }
   ],
   "source": [
    "print(\"##\" * 30)\n",
    "print(\" \" * 13, \"Classification Report Train\")\n",
    "print(\"##\" * 30)\n",
    "print(classification_report(y_train, y_pred_train, target_names = LABELS))\n",
    "print(\"\")\n",
    "print(\"##\" * 30)\n",
    "print(\" \" * 13, \"Classification Report Test\")\n",
    "print(\"##\" * 30)\n",
    "print(classification_report(y_test, y_pred_test, target_names = LABELS))"
   ]
  },
  {
   "cell_type": "markdown",
   "metadata": {},
   "source": [
    "- **Confusion Matrix**"
   ]
  },
  {
   "cell_type": "code",
   "execution_count": 38,
   "metadata": {
    "execution": {
     "iopub.execute_input": "2024-01-28T04:21:17.929513Z",
     "iopub.status.busy": "2024-01-28T04:21:17.929045Z",
     "iopub.status.idle": "2024-01-28T04:21:18.558180Z",
     "shell.execute_reply": "2024-01-28T04:21:18.557275Z",
     "shell.execute_reply.started": "2024-01-28T04:21:17.929461Z"
    }
   },
   "outputs": [
    {
     "data": {
      "image/png": "[encoded data removed]",
      "text/plain": [
       "<Figure size 648x252 with 2 Axes>"
      ]
     },
     "metadata": {},
     "output_type": "display_data"
    }
   ],
   "source": [
    "cf_mx_train = confusion_matrix(y_train, y_pred_train)\n",
    "cf_mx_test = confusion_matrix(y_test, y_pred_test)\n",
    "\n",
    "fig,ax = plt.subplots(nrows = 1, ncols = 2, figsize = (9,3.5))\n",
    "\n",
    "sns.heatmap(cf_mx_train, cmap = 'Reds', \n",
    "            fmt = '', annot = True, cbar = False, \n",
    "            annot_kws = {'fontsize':10, 'fontweight':'bold'},\n",
    "            square = True, xticklabels = LABELS, yticklabels = LABELS, ax = ax[0])\n",
    "\n",
    "sns.heatmap(cf_mx_test, cmap = 'Blues', \n",
    "            fmt = '', annot = True, cbar = False, \n",
    "            annot_kws = {'fontsize':10, 'fontweight':'bold'},\n",
    "            square = True, xticklabels = LABELS, yticklabels = LABELS, ax = ax[1])\n",
    "\n",
    "ax[0].set_title(\"Confusion Matrix Train\", fontsize = 10, fontweight = \"bold\", color = \"black\")\n",
    "ax[1].set_title(\"Confusion Matrix Test\", fontsize = 10, fontweight = \"bold\", color = \"black\")\n",
    "fig.tight_layout()\n",
    "fig.show()"
   ]
  },
  {
   "cell_type": "markdown",
   "metadata": {},
   "source": [
    "- **ROC curve**"
   ]
  },
  {
   "cell_type": "code",
   "execution_count": 39,
   "metadata": {
    "execution": {
     "iopub.execute_input": "2024-01-28T04:30:30.316178Z",
     "iopub.status.busy": "2024-01-28T04:30:30.315768Z",
     "iopub.status.idle": "2024-01-28T04:30:30.890040Z",
     "shell.execute_reply": "2024-01-28T04:30:30.888659Z",
     "shell.execute_reply.started": "2024-01-28T04:30:30.316146Z"
    }
   },
   "outputs": [
    {
     "data": {
      "image/png": "[encoded data removed]",
      "text/plain": [
       "<Figure size 432x252 with 1 Axes>"
      ]
     },
     "metadata": {},
     "output_type": "display_data"
    }
   ],
   "source": [
    "fpr_train, tpr_train, _ = roc_curve(y_train, y_pred_prob_train)\n",
    "fpr_test, tpr_test, _ = roc_curve(y_test, y_pred_prob_test)\n",
    "\n",
    "auc_train = roc_auc_score(y_train, y_pred_prob_train)\n",
    "auc_test = roc_auc_score(y_test, y_pred_prob_test)\n",
    "\n",
    "fig,ax = plt.subplots(figsize = (6,3.5))\n",
    "ax.plot(fpr_train, tpr_train, label = f'Train AUC = {auc_train:.4f}')\n",
    "ax.plot(fpr_test, tpr_test, label = f'Test AUC = {auc_test:.4f}')\n",
    "ax.plot([0,1], linestyle = '--', color = 'black')\n",
    "ax.set_xlabel(\"FPR\", fontsize = 10, fontweight = 'bold', color = 'black')\n",
    "ax.set_ylabel(\"TPR\", fontsize = 10, fontweight = 'bold', color = 'black')\n",
    "ax.legend()\n",
    "ax.set_title(\"ROC AUC\", fontsize = 12, fontweight = \"bold\", color = \"black\")\n",
    "fig.show()"
   ]
  },
  {
   "cell_type": "markdown",
   "metadata": {},
   "source": [
    "- **Precision Recall curve**"
   ]
  },
  {
   "cell_type": "code",
   "execution_count": 40,
   "metadata": {
    "execution": {
     "iopub.execute_input": "2024-01-28T04:33:24.274764Z",
     "iopub.status.busy": "2024-01-28T04:33:24.274123Z",
     "iopub.status.idle": "2024-01-28T04:33:24.832912Z",
     "shell.execute_reply": "2024-01-28T04:33:24.831613Z",
     "shell.execute_reply.started": "2024-01-28T04:33:24.274714Z"
    }
   },
   "outputs": [
    {
     "data": {
      "image/png": "[encoded data removed]",
      "text/plain": [
       "<Figure size 432x252 with 1 Axes>"
      ]
     },
     "metadata": {},
     "output_type": "display_data"
    }
   ],
   "source": [
    "precision_train, recall_train, _ = precision_recall_curve(y_train, y_pred_prob_train, )\n",
    "precision_test, recall_test, _ = precision_recall_curve(y_test, y_pred_prob_test)\n",
    "\n",
    "fig,ax = plt.subplots(figsize = (6,3.5))\n",
    "ax.plot(recall_train, precision_train, label = 'Train')\n",
    "ax.plot(recall_train, precision_train, label = 'Test')\n",
    "ax.set_xlabel(\"Recall\", fontsize = 10, fontweight = 'bold', color = 'black')\n",
    "ax.set_ylabel(\"Precision\", fontsize = 10, fontweight = 'bold', color = 'black')\n",
    "ax.legend()\n",
    "ax.set_title(\"Precision Recall Curve\", fontsize = 12, fontweight = \"bold\", color = \"black\")\n",
    "fig.show()"
   ]
  },
  {
   "cell_type": "code",
   "execution_count": null,
   "metadata": {},
   "outputs": [],
   "source": []
  }
 ],
 "metadata": {
  "kernelspec": {
   "display_name": "Python 3 (ipykernel)",
   "language": "python",
   "name": "python3"
  },
  "language_info": {
   "codemirror_mode": {
    "name": "ipython",
    "version": 3
   },
   "file_extension": ".py",
   "mimetype": "text/x-python",
   "name": "python",
   "nbconvert_exporter": "python",
   "pygments_lexer": "ipython3",
   "version": "3.9.12"
  }
 },
 "nbformat": 4,
 "nbformat_minor": 4
}
